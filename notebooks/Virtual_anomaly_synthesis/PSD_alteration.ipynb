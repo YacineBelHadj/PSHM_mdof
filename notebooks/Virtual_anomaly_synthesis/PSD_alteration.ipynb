{
 "cells": [
  {
   "cell_type": "markdown",
   "metadata": {},
   "source": [
    "# Motivation \n",
    "in this notebook, we will show how to use the PSD alteration method to generate virtual anomalies.\n"
   ]
  },
  {
   "cell_type": "code",
   "execution_count": 1,
   "metadata": {},
   "outputs": [],
   "source": [
    "# database_path load from config file\n",
    "from config import settings\n",
    "from pathlib import Path\n",
    "settings_proc ='SETTINGS1'\n",
    "settings_simu = 'SETTINGS1'\n",
    "root= Path(settings.data.path[\"processed\"])\n",
    "database_path = (root /settings_simu/settings_simu.lower()).with_suffix('.db')"
   ]
  },
  {
   "cell_type": "code",
   "execution_count": 2,
   "metadata": {},
   "outputs": [],
   "source": [
    "import sqlite3\n",
    "import numpy as np\n",
    "conn = sqlite3.connect(database_path)\n",
    "c = conn.cursor()\n",
    "c.execute(\"SELECT * FROM metadata\")\n",
    "metadata = c.fetchone()\n",
    "fs, nperseg, filter_order, lpf, freq, SNR = metadata\n",
    "freq_axis = np.frombuffer(freq, dtype=np.float64)\n"
   ]
  },
  {
   "cell_type": "code",
   "execution_count": 3,
   "metadata": {},
   "outputs": [
    {
     "data": {
      "text/plain": [
       "513"
      ]
     },
     "execution_count": 3,
     "metadata": {},
     "output_type": "execute_result"
    }
   ],
   "source": [
    "len(freq_axis)"
   ]
  },
  {
   "cell_type": "code",
   "execution_count": 4,
   "metadata": {},
   "outputs": [],
   "source": [
    "from psm.models.prepare_data import CreateTransformer\n",
    "cr=CreateTransformer(database_path,freq_axis , 0, 150)\n",
    "transform_psd = cr.transform_psd\n",
    "label_transform = cr.label_transform\n"
   ]
  },
  {
   "cell_type": "code",
   "execution_count": 5,
   "metadata": {},
   "outputs": [],
   "source": [
    "# load the data using the PSDDataset class \n",
    "from psm.models.prepare_data import PSDDataset\n",
    "\n",
    "# load the data using the PSDDataset class\n",
    "dataset = PSDDataset(\n",
    "    database_path=database_path,\n",
    "\n",
    "    anomaly_level=0,\n",
    "    stage='test')\n",
    "\n"
   ]
  },
  {
   "cell_type": "code",
   "execution_count": 6,
   "metadata": {},
   "outputs": [
    {
     "name": "stderr",
     "output_type": "stream",
     "text": [
      "/home/yacine/Documents/PhD/Code/GitProject/PBSHM_mdof/psm/models/prepare_data.py:165: UserWarning: The given NumPy array is not writable, and PyTorch does not support non-writable tensors. This means writing to this tensor will result in undefined behavior. You may want to copy the array to protect its data or make it writable before converting it to a tensor. This type of warning will be suppressed for the rest of this program. (Triggered internally at ../torch/csrc/utils/tensor_numpy.cpp:206.)\n",
      "  psd = torch.from_numpy(psd).float()\n"
     ]
    },
    {
     "data": {
      "text/plain": [
       "[<matplotlib.lines.Line2D at 0x7f5e59539690>]"
      ]
     },
     "execution_count": 6,
     "metadata": {},
     "output_type": "execute_result"
    },
    {
     "data": {
      "image/png": "[encoded data removed]",
      "text/plain": [
       "<Figure size 640x480 with 1 Axes>"
      ]
     },
     "metadata": {},
     "output_type": "display_data"
    }
   ],
   "source": [
    "# grab a sample from the dataset\n",
    "import matplotlib.pyplot as plt\n",
    "sample = dataset[0]\n",
    "plt.plot(sample[0])\n"
   ]
  },
  {
   "cell_type": "code",
   "execution_count": 7,
   "metadata": {},
   "outputs": [
    {
     "data": {
      "text/plain": [
       "400.0"
      ]
     },
     "execution_count": 7,
     "metadata": {},
     "output_type": "execute_result"
    }
   ],
   "source": [
    "fs"
   ]
  },
  {
   "cell_type": "code",
   "execution_count": 48,
   "metadata": {},
   "outputs": [],
   "source": [
    "import torch\n",
    "def construct_nodge(freq,f_oi,length,amp):\n",
    "    freq_index = len(freq)/freq[-1]\n",
    "    length = np.round(length*freq_index,0).astype('int')\n",
    "    window  = np.ones(freq.shape)\n",
    "    hann_len = np.sum(np.abs(freq-f_oi)<length)\n",
    "    hann = 1-np.hanning(hann_len)*amp\n",
    "    window[np.abs(freq-f_oi)<length] = hann\n",
    "    return window\n",
    "def multiply_signals_log(psd,window):\n",
    "\n",
    "\n",
    "    log_psd = torch.log(psd)\n",
    "    #  normalize the psd\n",
    "    min_psd = torch.min(log_psd)\n",
    "    max_psd = torch.max(log_psd)\n",
    "    log_psd = (log_psd - min_psd) / (max_psd - min_psd)\n",
    "    psd_aff =log_psd+(1-window)\n",
    "    # then unnormalize the psd\n",
    "    psd_aff = psd_aff * (max_psd - min_psd) + min_psd\n",
    "    res = torch.exp(psd_aff)\n",
    "    return res\n",
    "def affect_psd(psd,freq,amp,f_oi,length):\n",
    "    window = construct_nodge(freq=freq,f_oi=f_oi,length=length,amp=amp)\n",
    "    psd_res = multiply_signals_log(psd,window)\n",
    "    return psd_res\n"
   ]
  },
  {
   "cell_type": "code",
   "execution_count": 51,
   "metadata": {},
   "outputs": [
    {
     "data": {
      "text/html": [
       "\n",
       "        <iframe\n",
       "            width=\"100%\"\n",
       "            height=\"650\"\n",
       "            src=\"http://127.0.0.1:8050/\"\n",
       "            frameborder=\"0\"\n",
       "            allowfullscreen\n",
       "            \n",
       "        ></iframe>\n",
       "        "
      ],
      "text/plain": [
       "<IPython.lib.display.IFrame at 0x7f5e07ee4510>"
      ]
     },
     "metadata": {},
     "output_type": "display_data"
    }
   ],
   "source": [
    "import dash\n",
    "import dash_core_components as dcc\n",
    "import dash_html_components as html\n",
    "from dash.dependencies import Input, Output\n",
    "import plotly.graph_objects as go\n",
    "import numpy as np\n",
    "import matplotlib.pyplot as plt\n",
    "\n",
    "# Define your application\n",
    "app = dash.Dash(__name__)\n",
    "\n",
    "# Your actual construct_nodge function and freq_axis, sample arrays go here\n",
    "\n",
    "app.layout = html.Div([\n",
    "    dcc.Graph(id='graph'),\n",
    "    dcc.Slider(\n",
    "        id='f_oi-slider',\n",
    "        min=0,\n",
    "        max=200,\n",
    "        step=2,\n",
    "        value=50,\n",
    "        marks={},\n",
    "        updatemode='drag'\n",
    "    ),\n",
    "    dcc.Slider(\n",
    "        id='length-slider',\n",
    "        min=0,\n",
    "        max=10,\n",
    "        step=1,\n",
    "        value=1,\n",
    "    ),\n",
    "    dcc.Slider(\n",
    "        id='amp_slider',\n",
    "        min=-1,\n",
    "        max=1,\n",
    "        step=0.05,\n",
    "        value=0.5,\n",
    "    )\n",
    "])\n",
    "\n",
    "@app.callback(\n",
    "    Output('graph', 'figure'),\n",
    "    [Input('f_oi-slider', 'value'),\n",
    "     Input('length-slider', 'value'),\n",
    "     Input('amp_slider', 'value')]\n",
    ")\n",
    "def update_graph(f_oi, length, amp):\n",
    "    anomaly_param = {'f_oi' : f_oi, 'length' : length, 'amp' : amp}\n",
    "    window = construct_nodge(freq_axis,**anomaly_param)\n",
    "    psd_res = affect_psd(psd,freq_axis,**anomaly_param)\n",
    "\n",
    "    fig = go.Figure()\n",
    "\n",
    "    fig.add_trace(go.Scatter(x=freq_axis, y=window, mode='lines', name='notch filter', yaxis='y2'))\n",
    "    fig.add_trace(go.Scatter(x=freq_axis, y=sample[0], mode='lines', name='original'))\n",
    "    fig.add_trace(go.Scatter(x=freq_axis, y=psd_res, mode='lines', name='affected'))\n",
    "\n",
    "    fig.update_layout(\n",
    "        yaxis_type=\"log\",\n",
    "        yaxis2=dict(\n",
    "            title=\"notch filter\",\n",
    "            titlefont=dict(\n",
    "                color=\"red\"\n",
    "            ),\n",
    "            tickfont=dict(\n",
    "                color=\"red\"\n",
    "            ),\n",
    "            overlaying=\"y\",\n",
    "            side=\"right\",\n",
    "            range=[0, 2]\n",
    "        )\n",
    "    )\n",
    "    \n",
    "    return fig\n",
    "\n",
    "\n",
    "app.run_server(debug=True)\n"
   ]
  },
  {
   "cell_type": "code",
   "execution_count": null,
   "metadata": {},
   "outputs": [],
   "source": []
  }
 ],
 "metadata": {
  "kernelspec": {
   "display_name": "PBSHM_Mdof",
   "language": "python",
   "name": "python3"
  },
  "language_info": {
   "codemirror_mode": {
    "name": "ipython",
    "version": 3
   },
   "file_extension": ".py",
   "mimetype": "text/x-python",
   "name": "python",
   "nbconvert_exporter": "python",
   "pygments_lexer": "ipython3",
   "version": "3.11.4"
  },
  "orig_nbformat": 4
 },
 "nbformat": 4,
 "nbformat_minor": 2
}
