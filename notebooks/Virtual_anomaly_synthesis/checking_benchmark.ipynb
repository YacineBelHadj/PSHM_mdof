{
 "cells": [
  {
   "cell_type": "markdown",
   "metadata": {},
   "source": [
    "# Motivation\n",
    "here we try to establish a metric for the VAS"
   ]
  },
  {
   "cell_type": "code",
   "execution_count": null,
   "metadata": {},
   "outputs": [],
   "source": []
  },
  {
   "cell_type": "code",
   "execution_count": 2,
   "metadata": {},
   "outputs": [],
   "source": [
    "# database_path load from config file\n",
    "from config import settings\n",
    "from pathlib import Path\n",
    "settings_proc ='SETTINGS1'\n",
    "settings_simu = 'SETTINGS1'\n",
    "root= Path(settings.data.path[\"processed\"])\n",
    "database_path = (root /settings_simu/(settings_simu.lower()+'_vas')).with_suffix('.db')\n",
    "database_psd = (root /settings_simu/(settings_simu.lower())).with_suffix('.db')"
   ]
  },
  {
   "cell_type": "code",
   "execution_count": null,
   "metadata": {},
   "outputs": [],
   "source": []
  }
 ],
 "metadata": {
  "kernelspec": {
   "display_name": "PBSHM_Mdof",
   "language": "python",
   "name": "python3"
  },
  "language_info": {
   "codemirror_mode": {
    "name": "ipython",
    "version": 3
   },
   "file_extension": ".py",
   "mimetype": "text/x-python",
   "name": "python",
   "nbconvert_exporter": "python",
   "pygments_lexer": "ipython3",
   "version": "3.11.4"
  },
  "orig_nbformat": 4
 },
 "nbformat": 4,
 "nbformat_minor": 2
}
