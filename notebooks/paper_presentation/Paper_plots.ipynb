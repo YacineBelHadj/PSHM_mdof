{
 "cells": [
  {
   "cell_type": "markdown",
   "metadata": {},
   "source": [
    "# Anomaly Detection in Structural Health Monitoring\n",
    "## Using DeepSpectra Anomaly Detection (DSAD) Method\n",
    "### Presented by: Yacine Bel-Hadj \n",
    "\n",
    "In this presentation, we'll explore a novel approach for population-based structural health monitoring (PB-SHM) using deep learning. We'll delve into the methodology, results, and implications of the study conducted on twenty 8-degree-of-freedom (DOF) systems.\n"
   ]
  },
  {
   "cell_type": "markdown",
   "metadata": {},
   "source": [
    "# Anomaly Detection in Structural Health Monitoring\n",
    "## Using DeepSpectra Anomaly Detection (DSAD) Method\n",
    "### Presented by: Yacine Bel-Hadj \n",
    "\n",
    "In this presentation, we'll explore a novel approach for population-based structural health monitoring (PB-SHM) using deep learning. We'll delve into the methodology, results, and implications of the study conducted on twenty 8-degree-of-freedom (DOF) systems.\n"
   ]
  },
  {
   "cell_type": "markdown",
   "metadata": {},
   "source": [
    "# Methodology\n",
    "## Dataset and Simulation\n",
    "- 20 8-DOF systems subjected to excitation with white noise.\n",
    "- Variability introduced using Weibull and normal distributions.\n",
    "- Total of 52,000 samples for the entire population.\n",
    "\n",
    "## DeepSpectra Anomaly Detection (DSAD) Method\n",
    "- Utilizes the frequency representation of acceleration data.\n",
    "- Neural network model to classify normal data into the individual classes."
   ]
  },
  {
   "cell_type": "markdown",
   "metadata": {},
   "source": [
    "# Proposed Approach\n",
    "## Key Components\n",
    "- Frequency representation of acceleration data as input.\n",
    "- Utilizes a window of 1024 samples with p-Welch algorithm.\n",
    "- Includes regularization techniques for model stability.\n",
    "- Anomaly index defined based on the penultimate layer’s embedding."
   ]
  },
  {
   "cell_type": "markdown",
   "metadata": {},
   "source": [
    "# Baseline Approach and Comparison\n",
    "## Traditional Approach\n",
    "- Utilizes system's resonance frequencies as damage-sensitive features.\n",
    "- Employs PCA-based approach to identify linear subspace for environmental effects.\n",
    "\n",
    "## Comparison\n",
    "- Performance evaluated using the AUC metric.\n",
    "- Both methods perform better when complementing each other.\n",
    "\n",
    "*Consider adding tables or plots comparing the performance of the two approaches.*\n"
   ]
  }
 ],
 "metadata": {
  "kernelspec": {
   "display_name": "Python 3 (ipykernel)",
   "language": "python",
   "name": "python3"
  },
  "language_info": {
   "codemirror_mode": {
    "name": "ipython",
    "version": 3
   },
   "file_extension": ".py",
   "mimetype": "text/x-python",
   "name": "python",
   "nbconvert_exporter": "python",
   "pygments_lexer": "ipython3",
   "version": "3.11.4"
  }
 },
 "nbformat": 4,
 "nbformat_minor": 4
}
