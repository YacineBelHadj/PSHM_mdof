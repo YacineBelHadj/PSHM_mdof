{
 "cells": [
  {
   "cell_type": "code",
   "execution_count": 8,
   "metadata": {},
   "outputs": [],
   "source": [
    "import sqlite3\n",
    "import numpy as np\n",
    "import comet_ml\n",
    "# load the database path\n",
    "from config import settings\n",
    "from pathlib import Path\n",
    "\n",
    "settings_proc ='SETTINGS1'\n",
    "settings_simu = 'SETTINGS1'\n",
    "root= Path(settings.data.path[\"processed\"])\n",
    "database_path = (root /settings_simu/settings_simu.lower()).with_suffix('.db')"
   ]
  },
  {
   "cell_type": "code",
   "execution_count": 9,
   "metadata": {},
   "outputs": [],
   "source": [
    "from psm.utils.data.metadata import get_metadata_processed\n",
    "metadata= get_metadata_processed(settings_proc, settings_simu)\n",
    "freq_axis = metadata['freq']"
   ]
  },
  {
   "cell_type": "code",
   "execution_count": 11,
   "metadata": {},
   "outputs": [
    {
     "name": "stdout",
     "output_type": "stream",
     "text": [
      "Number of training samples: 16000\n",
      "Number of validation samples: 4000\n",
      "Number of test samples: 4000\n",
      "Shape of data from train_dl: torch.Size([32, 385])\n",
      "Shape of label from train_dl: torch.Size([32])\n"
     ]
    }
   ],
   "source": [
    "from psm.models.prepare_data import CreateTransformer,PSDDataModule,PSDDataset\n",
    "# let's create the transformer\n",
    "transformer = CreateTransformer(database_path, freq=freq_axis, freq_min=0, freq_max=150)\n",
    "transform_psd = transformer.transform_psd\n",
    "transform_label = transformer.transform_label\n",
    "input_dim = transformer.dimension_psd()\n",
    "dm = PSDDataModule(database_path, transform_psd, transform_label, batch_size=32)\n",
    "dm.setup()\n",
    "\n",
    "# Create dataloaders\n",
    "train_dl = dm.train_dataloader()\n",
    "val_dl = dm.val_dataloader()\n",
    "test_dl = dm.test_dataloader()\n",
    "\n",
    "# Print some details\n",
    "print(f\"Number of training samples: {len(dm.train_dataset)}\")\n",
    "print(f\"Number of validation samples: {len(dm.val_dataset)}\")\n",
    "print(f\"Number of test samples: {len(dm.test_dataset)}\")\n",
    "\n",
    "# Get a batch of data\n",
    "for batch in train_dl:\n",
    "    data, label = batch\n",
    "    print(f\"Shape of data from train_dl: {data.shape}\")\n",
    "    print(f\"Shape of label from train_dl: {label.shape}\")\n",
    "    break"
   ]
  },
  {
   "cell_type": "code",
   "execution_count": 13,
   "metadata": {},
   "outputs": [
    {
     "name": "stderr",
     "output_type": "stream",
     "text": [
      "CometLogger will be initialized in online mode\n"
     ]
    },
    {
     "data": {
      "text/plain": [
       "[<pytorch_lightning.callbacks.early_stopping.EarlyStopping at 0x7f02f18637d0>,\n",
       " <pytorch_lightning.callbacks.model_checkpoint.ModelCheckpoint at 0x7f02f1862f50>,\n",
       " <pytorch_lightning.callbacks.lr_monitor.LearningRateMonitor at 0x7f02f197cdd0>]"
      ]
     },
     "execution_count": 13,
     "metadata": {},
     "output_type": "execute_result"
    }
   ],
   "source": [
    "from psm.models.vanilla_classification import DenseSignalClassifier, DenseSignalClassifierModule\n",
    "from psm.models.callbacks_logger import create_callbacks_loggers\n",
    "from pytorch_lightning import Trainer\n",
    "import torch as nn\n",
    "\n",
    "# create logger and callbacks\n",
    "callbacks, logger = create_callbacks_loggers()\n",
    "# hyperparameters\n",
    "hyper_params = {'input_dim':input_dim, 'dense_layers':[248,128, 64, 32],\n",
    "                'dropout_rate':0, 'num_classes':20, 'lr':0.002,\n",
    "                'batch_norm':True, 'activation':nn.ReLU(), 'l1_reg':1e-4}\n",
    "# create model\n",
    "model = DenseSignalClassifierModule(**hyper_params)\n",
    "\n",
    "trainer = Trainer(max_epochs=100, callbacks=callbacks, logger=logger)\n",
    "trainer.fit(model, dm)"
   ]
  },
  {
   "cell_type": "code",
   "execution_count": null,
   "metadata": {},
   "outputs": [],
   "source": []
  }
 ],
 "metadata": {
  "kernelspec": {
   "display_name": "PBSHM_Mdof",
   "language": "python",
   "name": "python3"
  },
  "language_info": {
   "codemirror_mode": {
    "name": "ipython",
    "version": 3
   },
   "file_extension": ".py",
   "mimetype": "text/x-python",
   "name": "python",
   "nbconvert_exporter": "python",
   "pygments_lexer": "ipython3",
   "version": "3.11.4"
  },
  "orig_nbformat": 4
 },
 "nbformat": 4,
 "nbformat_minor": 2
}
