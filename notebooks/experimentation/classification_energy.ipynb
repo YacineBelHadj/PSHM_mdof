{
 "cells": [
  {
   "cell_type": "code",
   "execution_count": 1,
   "metadata": {},
   "outputs": [],
   "source": [
    "import sqlite3\n",
    "import numpy as np\n",
    "import comet_ml\n",
    "# load the database pathxcon\n",
    "from config import settings\n",
    "from pathlib import Path\n",
    "\n",
    "settings_proc ='SETTINGS1'\n",
    "settings_simu = 'SETTINGS1'\n",
    "root= Path(settings.data.path[\"processed\"])\n",
    "database_path = (root /settings_simu/settings_simu.lower()).with_suffix('.db')"
   ]
  },
  {
   "cell_type": "code",
   "execution_count": 2,
   "metadata": {},
   "outputs": [
    {
     "data": {
      "text/plain": [
       "PosixPath('/home/yacine/Documents/PhD/Code/GitProject/PBSHM_mdof/data/processed/SETTINGS1/settings1.db')"
      ]
     },
     "execution_count": 2,
     "metadata": {},
     "output_type": "execute_result"
    }
   ],
   "source": [
    "database_path"
   ]
  },
  {
   "cell_type": "code",
   "execution_count": 3,
   "metadata": {},
   "outputs": [],
   "source": [
    "from psm.utils.data.metadata import get_metadata_processed\n",
    "metadata= get_metadata_processed(settings_proc, settings_simu)\n",
    "freq_axis = metadata['freq']"
   ]
  },
  {
   "cell_type": "code",
   "execution_count": 4,
   "metadata": {},
   "outputs": [
    {
     "name": "stdout",
     "output_type": "stream",
     "text": [
      "(anomaly_level=?) AND stage=? (0, 'train')\n",
      "(anomaly_level=?) AND stage=? (0, 'test')\n",
      "Number of training samples: 16000\n",
      "Number of validation samples: 4000\n",
      "Number of test samples: 4000\n",
      "Shape of data from train_dl: torch.Size([32, 385])\n",
      "Shape of label from train_dl: torch.Size([32])\n"
     ]
    }
   ],
   "source": [
    "from psm.models.prepare_data import CreateTransformer,PSDDataModule,PSDDataset\n",
    "# let's create the transformer\n",
    "transformer = CreateTransformer(database_path, freq=freq_axis, freq_min=0, freq_max=150)\n",
    "transform_psd = transformer.transform_psd\n",
    "transform_label = transformer.transform_label\n",
    "input_dim = transformer.dimension_psd()\n",
    "dm = PSDDataModule(database_path, transform_psd, transform_label, batch_size=32)\n",
    "dm.setup()\n",
    "\n",
    "# Create dataloaders\n",
    "train_dl = dm.train_dataloader()\n",
    "val_dl = dm.val_dataloader()\n",
    "test_dl = dm.test_dataloader()\n",
    "\n",
    "# Print some details\n",
    "print(f\"Number of training samples: {len(dm.train_dataset)}\")\n",
    "print(f\"Number of validation samples: {len(dm.val_dataset)}\")\n",
    "print(f\"Number of test samples: {len(dm.test_dataset)}\")\n",
    "\n",
    "# Get a batch of data\n",
    "for batch in train_dl:\n",
    "    data, label = batch\n",
    "    print(f\"Shape of data from train_dl: {data.shape}\")\n",
    "    print(f\"Shape of label from train_dl: {label.shape}\")\n",
    "    break"
   ]
  },
  {
   "cell_type": "code",
   "execution_count": 5,
   "metadata": {},
   "outputs": [
    {
     "name": "stdout",
     "output_type": "stream",
     "text": [
      "stage=? ('anomaly',)\n",
      "stage=? ('test',)\n",
      "system_name LIKE ? ('%',)\n",
      "system_name LIKE ? ('%',)\n"
     ]
    }
   ],
   "source": [
    "from psm.models.prepare_data import PSDNotchDataset , PSDNotchDatasetOriginal\n",
    "database_notch_path = (root/settings_simu/(settings_proc.lower()+\"_vas\")).with_suffix('.db')\n",
    "anomaly_dl = PSDDataset(database_path, transform=transform_psd, transform_label=transform_label, stage='anomaly')\n",
    "test_dl = PSDDataset(database_path, transform=transform_psd, transform_label=transform_label, stage='test')\n",
    "\n",
    "\n",
    "psd_notch = PSDNotchDataset(database_notch_path, transform=transform_psd, transform_label=transform_label)\n",
    "psd_original = PSDNotchDatasetOriginal(database_notch_path,transform=transform_psd, transform_label=transform_label)\n"
   ]
  },
  {
   "cell_type": "code",
   "execution_count": 6,
   "metadata": {},
   "outputs": [
    {
     "name": "stderr",
     "output_type": "stream",
     "text": [
      "CometLogger will be initialized in online mode\n",
      "GPU available: False, used: False\n",
      "TPU available: False, using: 0 TPU cores\n",
      "IPU available: False, using: 0 IPUs\n",
      "HPU available: False, using: 0 HPUs\n",
      "\u001b[1;38;5;214mCOMET WARNING:\u001b[0m As you are running in a Jupyter environment, you will need to call `experiment.end()` when finished to ensure all metrics and code are logged before exiting.\n",
      "\u001b[1;38;5;214mCOMET WARNING:\u001b[0m You are trying to log string value as a metric. This is not recommended.\n",
      "\u001b[1;38;5;39mCOMET INFO:\u001b[0m Experiment is live on comet.com https://www.comet.com/yacinebelhadj/psm-mdof1/3053641fb923400d967b346f05c1ef3d\n",
      "\n"
     ]
    },
    {
     "name": "stdout",
     "output_type": "stream",
     "text": [
      "(anomaly_level=?) AND stage=? (0, 'train')\n",
      "(anomaly_level=?) AND stage=? (0, 'test')\n"
     ]
    },
    {
     "name": "stderr",
     "output_type": "stream",
     "text": [
      "/home/yacine/.local/lib/python3.10/site-packages/pytorch_lightning/callbacks/model_checkpoint.py:617: UserWarning: Checkpoint directory /home/yacine/Documents/PhD/Code/GitProject/PBSHM_mdof/model/model exists and is not empty.\n",
      "  rank_zero_warn(f\"Checkpoint directory {dirpath} exists and is not empty.\")\n",
      "\n",
      "  | Name      | Type                        | Params\n",
      "----------------------------------------------------------\n",
      "0 | model     | EnergyDenseSignalClassifier | 431 K \n",
      "1 | criterion | CrossEntropyLoss            | 0     \n",
      "2 | train_acc | MulticlassAccuracy          | 0     \n",
      "3 | val_acc   | MulticlassAccuracy          | 0     \n",
      "4 | test_acc  | MulticlassAccuracy          | 0     \n",
      "----------------------------------------------------------\n",
      "431 K     Trainable params\n",
      "0         Non-trainable params\n",
      "431 K     Total params\n",
      "1.728     Total estimated model params size (MB)\n"
     ]
    },
    {
     "data": {
      "application/vnd.jupyter.widget-view+json": {
       "model_id": "4384fdd951934d0c9e6a3366c866bb83",
       "version_major": 2,
       "version_minor": 0
      },
      "text/plain": [
       "Sanity Checking: 0it [00:00, ?it/s]"
      ]
     },
     "metadata": {},
     "output_type": "display_data"
    },
    {
     "name": "stderr",
     "output_type": "stream",
     "text": [
      "/home/yacine/.local/lib/python3.10/site-packages/pytorch_lightning/trainer/connectors/data_connector.py:438: PossibleUserWarning: The dataloader, val_dataloader, does not have many workers which may be a bottleneck. Consider increasing the value of the `num_workers` argument` (try 8 which is the number of cpus on this machine) in the `DataLoader` init to improve performance.\n",
      "  rank_zero_warn(\n"
     ]
    },
    {
     "name": "stdout",
     "output_type": "stream",
     "text": [
      "validation acc 0.03125\n"
     ]
    },
    {
     "name": "stderr",
     "output_type": "stream",
     "text": [
      "/home/yacine/.local/lib/python3.10/site-packages/pytorch_lightning/trainer/connectors/data_connector.py:438: PossibleUserWarning: The dataloader, train_dataloader, does not have many workers which may be a bottleneck. Consider increasing the value of the `num_workers` argument` (try 8 which is the number of cpus on this machine) in the `DataLoader` init to improve performance.\n",
      "  rank_zero_warn(\n"
     ]
    },
    {
     "data": {
      "application/vnd.jupyter.widget-view+json": {
       "model_id": "02e06f6289aa4b81a7b5a2305449406c",
       "version_major": 2,
       "version_minor": 0
      },
      "text/plain": [
       "Training: 0it [00:00, ?it/s]"
      ]
     },
     "metadata": {},
     "output_type": "display_data"
    },
    {
     "data": {
      "application/vnd.jupyter.widget-view+json": {
       "model_id": "64f3a366992d4fa6881858ada8d5b7d8",
       "version_major": 2,
       "version_minor": 0
      },
      "text/plain": [
       "Validation: 0it [00:00, ?it/s]"
      ]
     },
     "metadata": {},
     "output_type": "display_data"
    },
    {
     "name": "stdout",
     "output_type": "stream",
     "text": [
      "validation acc 0.5452053546905518\n"
     ]
    },
    {
     "data": {
      "application/vnd.jupyter.widget-view+json": {
       "model_id": "b72b09f6f103434587ed975a365eb36b",
       "version_major": 2,
       "version_minor": 0
      },
      "text/plain": [
       "Validation: 0it [00:00, ?it/s]"
      ]
     },
     "metadata": {},
     "output_type": "display_data"
    },
    {
     "name": "stdout",
     "output_type": "stream",
     "text": [
      "validation acc 0.6738218665122986\n"
     ]
    },
    {
     "data": {
      "application/vnd.jupyter.widget-view+json": {
       "model_id": "58d8f906364a444d81f8a9257e882795",
       "version_major": 2,
       "version_minor": 0
      },
      "text/plain": [
       "Validation: 0it [00:00, ?it/s]"
      ]
     },
     "metadata": {},
     "output_type": "display_data"
    },
    {
     "name": "stdout",
     "output_type": "stream",
     "text": [
      "validation acc 0.7153702974319458\n"
     ]
    },
    {
     "data": {
      "application/vnd.jupyter.widget-view+json": {
       "model_id": "8e0c79500c1a4423813b11efc788a305",
       "version_major": 2,
       "version_minor": 0
      },
      "text/plain": [
       "Validation: 0it [00:00, ?it/s]"
      ]
     },
     "metadata": {},
     "output_type": "display_data"
    },
    {
     "name": "stdout",
     "output_type": "stream",
     "text": [
      "validation acc 0.7539843320846558\n"
     ]
    },
    {
     "data": {
      "application/vnd.jupyter.widget-view+json": {
       "model_id": "aa2eb7bc0346463e8ae832ec20b58cd5",
       "version_major": 2,
       "version_minor": 0
      },
      "text/plain": [
       "Validation: 0it [00:00, ?it/s]"
      ]
     },
     "metadata": {},
     "output_type": "display_data"
    },
    {
     "name": "stdout",
     "output_type": "stream",
     "text": [
      "validation acc 0.7754737138748169\n"
     ]
    },
    {
     "data": {
      "application/vnd.jupyter.widget-view+json": {
       "model_id": "dc5bc74b5aa14d819d30d84c79fb6a2d",
       "version_major": 2,
       "version_minor": 0
      },
      "text/plain": [
       "Validation: 0it [00:00, ?it/s]"
      ]
     },
     "metadata": {},
     "output_type": "display_data"
    },
    {
     "name": "stdout",
     "output_type": "stream",
     "text": [
      "validation acc 0.7904201149940491\n"
     ]
    },
    {
     "data": {
      "application/vnd.jupyter.widget-view+json": {
       "model_id": "897ae3fc9bd24920b93487516ecbb046",
       "version_major": 2,
       "version_minor": 0
      },
      "text/plain": [
       "Validation: 0it [00:00, ?it/s]"
      ]
     },
     "metadata": {},
     "output_type": "display_data"
    },
    {
     "name": "stdout",
     "output_type": "stream",
     "text": [
      "validation acc 0.8137779831886292\n"
     ]
    },
    {
     "data": {
      "application/vnd.jupyter.widget-view+json": {
       "model_id": "b725967486a144c58feea5f53f291e71",
       "version_major": 2,
       "version_minor": 0
      },
      "text/plain": [
       "Validation: 0it [00:00, ?it/s]"
      ]
     },
     "metadata": {},
     "output_type": "display_data"
    },
    {
     "name": "stdout",
     "output_type": "stream",
     "text": [
      "validation acc 0.813362181186676\n"
     ]
    },
    {
     "data": {
      "application/vnd.jupyter.widget-view+json": {
       "model_id": "fd00c5067e054de5a1687026ecde2fe8",
       "version_major": 2,
       "version_minor": 0
      },
      "text/plain": [
       "Validation: 0it [00:00, ?it/s]"
      ]
     },
     "metadata": {},
     "output_type": "display_data"
    },
    {
     "name": "stdout",
     "output_type": "stream",
     "text": [
      "validation acc 0.8157599568367004\n"
     ]
    },
    {
     "data": {
      "application/vnd.jupyter.widget-view+json": {
       "model_id": "de5ca2ea66d94508b79351f0d0fa97df",
       "version_major": 2,
       "version_minor": 0
      },
      "text/plain": [
       "Validation: 0it [00:00, ?it/s]"
      ]
     },
     "metadata": {},
     "output_type": "display_data"
    },
    {
     "name": "stderr",
     "output_type": "stream",
     "text": [
      "`Trainer.fit` stopped: `max_epochs=10` reached.\n",
      "\u001b[1;38;5;39mCOMET INFO:\u001b[0m ---------------------------------------------------------------------------------------\n",
      "\u001b[1;38;5;39mCOMET INFO:\u001b[0m Comet.ml Experiment Summary\n",
      "\u001b[1;38;5;39mCOMET INFO:\u001b[0m ---------------------------------------------------------------------------------------\n",
      "\u001b[1;38;5;39mCOMET INFO:\u001b[0m   Data:\n",
      "\u001b[1;38;5;39mCOMET INFO:\u001b[0m     display_summary_level : 1\n",
      "\u001b[1;38;5;39mCOMET INFO:\u001b[0m     url                   : https://www.comet.com/yacinebelhadj/psm-mdof1/3053641fb923400d967b346f05c1ef3d\n",
      "\u001b[1;38;5;39mCOMET INFO:\u001b[0m   Metrics [count] (min, max):\n",
      "\u001b[1;38;5;39mCOMET INFO:\u001b[0m     loss [500]             : (3.629016399383545, 4.921708106994629)\n",
      "\u001b[1;38;5;39mCOMET INFO:\u001b[0m     lr-Adam                : 0.005\n",
      "\u001b[1;38;5;39mCOMET INFO:\u001b[0m     train_acc [10]         : (0.6586250066757202, 0.992562472820282)\n",
      "\u001b[1;38;5;39mCOMET INFO:\u001b[0m     train_energy_loss [10] : (3.5094380378723145, 3.9550132751464844)\n",
      "\u001b[1;38;5;39mCOMET INFO:\u001b[0m     train_loss [10]        : (3.6470775604248047, 4.047943592071533)\n",
      "\u001b[1;38;5;39mCOMET INFO:\u001b[0m     val_acc [10]           : (0.05375000089406967, 0.8050000071525574)\n",
      "\u001b[1;38;5;39mCOMET INFO:\u001b[0m     val_energy_loss [10]   : (3.3574862480163574, 3.6483161449432373)\n",
      "\u001b[1;38;5;39mCOMET INFO:\u001b[0m     val_loss [10]          : (3.7862026691436768, 4.1764421463012695)\n",
      "\u001b[1;38;5;39mCOMET INFO:\u001b[0m   Parameters:\n",
      "\u001b[1;38;5;39mCOMET INFO:\u001b[0m     batch_norm   : True\n",
      "\u001b[1;38;5;39mCOMET INFO:\u001b[0m     bias         : True\n",
      "\u001b[1;38;5;39mCOMET INFO:\u001b[0m     dense_layers : [512, 248, 248, 128, 64, 32]\n",
      "\u001b[1;38;5;39mCOMET INFO:\u001b[0m     dropout_rate : 0\n",
      "\u001b[1;38;5;39mCOMET INFO:\u001b[0m     en_coef      : 0.3\n",
      "\u001b[1;38;5;39mCOMET INFO:\u001b[0m     input_dim    : 385\n",
      "\u001b[1;38;5;39mCOMET INFO:\u001b[0m     l1_reg       : 0.0001\n"
     ]
    },
    {
     "name": "stdout",
     "output_type": "stream",
     "text": [
      "validation acc 0.8220819234848022\n"
     ]
    },
    {
     "name": "stderr",
     "output_type": "stream",
     "text": [
      "\u001b[1;38;5;39mCOMET INFO:\u001b[0m     lr           : 0.005\n",
      "\u001b[1;38;5;39mCOMET INFO:\u001b[0m     num_classes  : 20\n",
      "\u001b[1;38;5;39mCOMET INFO:\u001b[0m     temperature  : 1.0\n",
      "\u001b[1;38;5;39mCOMET INFO:\u001b[0m   Uploads:\n",
      "\u001b[1;38;5;39mCOMET INFO:\u001b[0m     conda-environment-definition : 1\n",
      "\u001b[1;38;5;39mCOMET INFO:\u001b[0m     conda-info                   : 1\n",
      "\u001b[1;38;5;39mCOMET INFO:\u001b[0m     conda-specification          : 1\n",
      "\u001b[1;38;5;39mCOMET INFO:\u001b[0m     environment details          : 1\n",
      "\u001b[1;38;5;39mCOMET INFO:\u001b[0m     filename                     : 1\n",
      "\u001b[1;38;5;39mCOMET INFO:\u001b[0m     git metadata                 : 1\n",
      "\u001b[1;38;5;39mCOMET INFO:\u001b[0m     git-patch (uncompressed)     : 1 (26.21 KB)\n",
      "\u001b[1;38;5;39mCOMET INFO:\u001b[0m     installed packages           : 1\n",
      "\u001b[1;38;5;39mCOMET INFO:\u001b[0m     model graph                  : 1\n",
      "\u001b[1;38;5;39mCOMET INFO:\u001b[0m     notebook                     : 1\n",
      "\u001b[1;38;5;39mCOMET INFO:\u001b[0m     os packages                  : 1\n",
      "\u001b[1;38;5;39mCOMET INFO:\u001b[0m     source_code                  : 1\n",
      "\u001b[1;38;5;39mCOMET INFO:\u001b[0m \n",
      "\u001b[1;38;5;39mCOMET INFO:\u001b[0m Please wait for metadata to finish uploading (timeout is 3600 seconds)\n",
      "\u001b[1;38;5;214mCOMET WARNING:\u001b[0m As you are running in a Jupyter environment, you will need to call `experiment.end()` when finished to ensure all metrics and code are logged before exiting.\n",
      "\u001b[1;38;5;39mCOMET INFO:\u001b[0m Experiment is live on comet.com https://www.comet.com/yacinebelhadj/psm-mdof1/3053641fb923400d967b346f05c1ef3d\n",
      "\n"
     ]
    },
    {
     "name": "stdout",
     "output_type": "stream",
     "text": [
      "(anomaly_level=?) AND stage=? (0, 'train')\n",
      "(anomaly_level=?) AND stage=? (0, 'test')\n"
     ]
    },
    {
     "name": "stderr",
     "output_type": "stream",
     "text": [
      "/home/yacine/.local/lib/python3.10/site-packages/pytorch_lightning/trainer/connectors/data_connector.py:438: PossibleUserWarning: The dataloader, test_dataloader, does not have many workers which may be a bottleneck. Consider increasing the value of the `num_workers` argument` (try 8 which is the number of cpus on this machine) in the `DataLoader` init to improve performance.\n",
      "  rank_zero_warn(\n"
     ]
    },
    {
     "data": {
      "application/vnd.jupyter.widget-view+json": {
       "model_id": "6502c93f30914b909dccc37b18ddcef2",
       "version_major": 2,
       "version_minor": 0
      },
      "text/plain": [
       "Testing: 0it [00:00, ?it/s]"
      ]
     },
     "metadata": {},
     "output_type": "display_data"
    },
    {
     "name": "stdout",
     "output_type": "stream",
     "text": [
      "torch.Size([4000]) torch.Size([4000])\n"
     ]
    },
    {
     "data": {
      "text/html": [
       "<pre style=\"white-space:pre;overflow-x:auto;line-height:normal;font-family:Menlo,'DejaVu Sans Mono',consolas,'Courier New',monospace\">┏━━━━━━━━━━━━━━━━━━━━━━━━━━━┳━━━━━━━━━━━━━━━━━━━━━━━━━━━┓\n",
       "┃<span style=\"font-weight: bold\">        Test metric        </span>┃<span style=\"font-weight: bold\">       DataLoader 0        </span>┃\n",
       "┡━━━━━━━━━━━━━━━━━━━━━━━━━━━╇━━━━━━━━━━━━━━━━━━━━━━━━━━━┩\n",
       "│<span style=\"color: #008080; text-decoration-color: #008080\">         test_acc          </span>│<span style=\"color: #800080; text-decoration-color: #800080\">    0.8047500252723694     </span>│\n",
       "│<span style=\"color: #008080; text-decoration-color: #008080\">     test_energy_loss      </span>│<span style=\"color: #800080; text-decoration-color: #800080\">    3.5673723220825195     </span>│\n",
       "│<span style=\"color: #008080; text-decoration-color: #008080\">         test_loss         </span>│<span style=\"color: #800080; text-decoration-color: #800080\">    3.7859692573547363     </span>│\n",
       "└───────────────────────────┴───────────────────────────┘\n",
       "</pre>\n"
      ],
      "text/plain": [
       "┏━━━━━━━━━━━━━━━━━━━━━━━━━━━┳━━━━━━━━━━━━━━━━━━━━━━━━━━━┓\n",
       "┃\u001b[1m \u001b[0m\u001b[1m       Test metric       \u001b[0m\u001b[1m \u001b[0m┃\u001b[1m \u001b[0m\u001b[1m      DataLoader 0       \u001b[0m\u001b[1m \u001b[0m┃\n",
       "┡━━━━━━━━━━━━━━━━━━━━━━━━━━━╇━━━━━━━━━━━━━━━━━━━━━━━━━━━┩\n",
       "│\u001b[36m \u001b[0m\u001b[36m        test_acc         \u001b[0m\u001b[36m \u001b[0m│\u001b[35m \u001b[0m\u001b[35m   0.8047500252723694    \u001b[0m\u001b[35m \u001b[0m│\n",
       "│\u001b[36m \u001b[0m\u001b[36m    test_energy_loss     \u001b[0m\u001b[36m \u001b[0m│\u001b[35m \u001b[0m\u001b[35m   3.5673723220825195    \u001b[0m\u001b[35m \u001b[0m│\n",
       "│\u001b[36m \u001b[0m\u001b[36m        test_loss        \u001b[0m\u001b[36m \u001b[0m│\u001b[35m \u001b[0m\u001b[35m   3.7859692573547363    \u001b[0m\u001b[35m \u001b[0m│\n",
       "└───────────────────────────┴───────────────────────────┘\n"
      ]
     },
     "metadata": {},
     "output_type": "display_data"
    },
    {
     "name": "stderr",
     "output_type": "stream",
     "text": [
      "\u001b[1;38;5;39mCOMET INFO:\u001b[0m ---------------------------------------------------------------------------------------\n",
      "\u001b[1;38;5;39mCOMET INFO:\u001b[0m Comet.ml ExistingExperiment Summary\n",
      "\u001b[1;38;5;39mCOMET INFO:\u001b[0m ---------------------------------------------------------------------------------------\n",
      "\u001b[1;38;5;39mCOMET INFO:\u001b[0m   Data:\n",
      "\u001b[1;38;5;39mCOMET INFO:\u001b[0m     display_summary_level : 1\n",
      "\u001b[1;38;5;39mCOMET INFO:\u001b[0m     url                   : https://www.comet.com/yacinebelhadj/psm-mdof1/3053641fb923400d967b346f05c1ef3d\n",
      "\u001b[1;38;5;39mCOMET INFO:\u001b[0m   Metrics:\n",
      "\u001b[1;38;5;39mCOMET INFO:\u001b[0m     test_acc         : 0.8047500252723694\n",
      "\u001b[1;38;5;39mCOMET INFO:\u001b[0m     test_energy_loss : 3.5673723220825195\n",
      "\u001b[1;38;5;39mCOMET INFO:\u001b[0m     test_loss        : 3.7859692573547363\n",
      "\u001b[1;38;5;39mCOMET INFO:\u001b[0m   Others:\n",
      "\u001b[1;38;5;39mCOMET INFO:\u001b[0m     Created from : pytorch-lightning\n",
      "\u001b[1;38;5;39mCOMET INFO:\u001b[0m   Parameters:\n",
      "\u001b[1;38;5;39mCOMET INFO:\u001b[0m     batch_norm   : True\n",
      "\u001b[1;38;5;39mCOMET INFO:\u001b[0m     bias         : True\n",
      "\u001b[1;38;5;39mCOMET INFO:\u001b[0m     dense_layers : [512, 248, 248, 128, 64, 32]\n",
      "\u001b[1;38;5;39mCOMET INFO:\u001b[0m     dropout_rate : 0\n",
      "\u001b[1;38;5;39mCOMET INFO:\u001b[0m     en_coef      : 0.3\n",
      "\u001b[1;38;5;39mCOMET INFO:\u001b[0m     input_dim    : 385\n",
      "\u001b[1;38;5;39mCOMET INFO:\u001b[0m     l1_reg       : 0.0001\n",
      "\u001b[1;38;5;39mCOMET INFO:\u001b[0m     lr           : 0.005\n",
      "\u001b[1;38;5;39mCOMET INFO:\u001b[0m     num_classes  : 20\n",
      "\u001b[1;38;5;39mCOMET INFO:\u001b[0m     temperature  : 1.0\n",
      "\u001b[1;38;5;39mCOMET INFO:\u001b[0m   Uploads:\n",
      "\u001b[1;38;5;39mCOMET INFO:\u001b[0m     confusion-matrix : 1\n",
      "\u001b[1;38;5;39mCOMET INFO:\u001b[0m     model graph      : 1\n",
      "\u001b[1;38;5;39mCOMET INFO:\u001b[0m \n",
      "\u001b[1;38;5;39mCOMET INFO:\u001b[0m Uploading 1 metrics, params and output messages\n",
      "\u001b[1;38;5;214mCOMET WARNING:\u001b[0m As you are running in a Jupyter environment, you will need to call `experiment.end()` when finished to ensure all metrics and code are logged before exiting.\n",
      "\u001b[1;38;5;39mCOMET INFO:\u001b[0m Experiment is live on comet.com https://www.comet.com/yacinebelhadj/psm-mdof1/3053641fb923400d967b346f05c1ef3d\n",
      "\n"
     ]
    },
    {
     "ename": "TypeError",
     "evalue": "iteration over a 0-d array",
     "output_type": "error",
     "traceback": [
      "\u001b[0;31m---------------------------------------------------------------------------\u001b[0m",
      "\u001b[0;31mTypeError\u001b[0m                                 Traceback (most recent call last)",
      "Cell \u001b[0;32mIn[6], line 35\u001b[0m\n\u001b[1;32m     33\u001b[0m \u001b[39m# first benchmark\u001b[39;00m\n\u001b[1;32m     34\u001b[0m benchmark1\u001b[39m=\u001b[39m Benchmark_SA(ad_system,anomaly_dl, test_dl, batch_size\u001b[39m=\u001b[39m\u001b[39m10000\u001b[39m)\n\u001b[0;32m---> 35\u001b[0m res1 \u001b[39m=\u001b[39m benchmark1\u001b[39m.\u001b[39;49mevaluate()\n\u001b[1;32m     36\u001b[0m benchmark2\u001b[39m=\u001b[39m Benchmark_VAS(ad_system,psd_notch,psd_original,batch_size\u001b[39m=\u001b[39m\u001b[39m10000\u001b[39m)\n\u001b[1;32m     37\u001b[0m res2 \u001b[39m=\u001b[39m benchmark2\u001b[39m.\u001b[39mevaluate_all_systems()\n",
      "File \u001b[0;32m~/Documents/PhD/Code/GitProject/PBSHM_mdof/psm/eval/benchmark.py:42\u001b[0m, in \u001b[0;36mBenchmark_SA.evaluate\u001b[0;34m(self)\u001b[0m\n\u001b[1;32m     40\u001b[0m     system_names\u001b[39m.\u001b[39mextend(system_name\u001b[39m.\u001b[39mtolist())\n\u001b[1;32m     41\u001b[0m     anomaly_levels\u001b[39m.\u001b[39mextend(anomaly_level\u001b[39m.\u001b[39mtolist())\n\u001b[0;32m---> 42\u001b[0m     log_likelihoods\u001b[39m.\u001b[39;49mextend(log_likelihood)\n\u001b[1;32m     44\u001b[0m \u001b[39mfor\u001b[39;00m psd, system_name \u001b[39min\u001b[39;00m \u001b[39mself\u001b[39m\u001b[39m.\u001b[39mtest_dl:\n\u001b[1;32m     45\u001b[0m     log_likelihood \u001b[39m=\u001b[39m \u001b[39mself\u001b[39m\u001b[39m.\u001b[39mad_system\u001b[39m.\u001b[39mpredict(psd)\n",
      "\u001b[0;31mTypeError\u001b[0m: iteration over a 0-d array"
     ]
    },
    {
     "name": "stderr",
     "output_type": "stream",
     "text": [
      "\u001b[1;38;5;196mCOMET ERROR:\u001b[0m Heartbeat processing error\n"
     ]
    }
   ],
   "source": [
    "from psm.models.callbacks_logger import log_metrics \n",
    "from psm.models.energy_classification import EnergyDenseSignalClassifierModule \n",
    "from psm.models.callbacks_logger import create_callbacks_loggers\n",
    "from pytorch_lightning import Trainer\n",
    "from psm.models.ad_systems import AD_energy\n",
    "from psm.eval.benchmark import Benchmark_SA, Benchmark_VAS\n",
    "from torch import nn\n",
    "\n",
    "# create logger and callbacks\n",
    "callbacks, logger = create_callbacks_loggers()\n",
    "# hyperparameters\n",
    "hyper_params = {'input_dim':input_dim,'en_coef':0.3, 'dense_layers':[512,248,248,128, 64, 32],\n",
    "                'dropout_rate':0, 'num_classes':20, 'lr':0.005,\n",
    "                'batch_norm':True, 'activation':nn.ReLU(), 'l1_reg':1e-4}\n",
    "# create model\n",
    "model = EnergyDenseSignalClassifierModule(**hyper_params)\n",
    "\n",
    "trainer = Trainer(max_epochs=10, callbacks=callbacks, logger=logger)\n",
    "trainer.fit(model, dm)\n",
    "\n",
    "checkpoint_path = trainer.checkpoint_callback.best_model_path\n",
    "best_model = EnergyDenseSignalClassifierModule.load_from_checkpoint(checkpoint_path)\n",
    "\n",
    "\n",
    "trainer.test(best_model, dm)\n",
    "ad_system = AD_energy(model=best_model)\n",
    "ad_system.fit(train_dl)\n",
    "#ad_system.log_model(logger.experiment)\n",
    "logger.experiment.log_model(\"best_model\", checkpoint_path)\n",
    "logger.experiment.log_asset(checkpoint_path,step=trainer.global_step)\n",
    "\n",
    "\n",
    "# first benchmark\n",
    "benchmark1= Benchmark_SA(ad_system,anomaly_dl, test_dl, batch_size=10000)\n",
    "res1 = benchmark1.evaluate()\n",
    "benchmark2= Benchmark_VAS(ad_system,psd_notch,psd_original,batch_size=10000)\n",
    "res2 = benchmark2.evaluate_all_systems()\n",
    "global_metric = log_metrics(logger,res1,res2)\n",
    "\n",
    "# After training, you can also test your model\n",
    "\n",
    "logger.experiment.end()"
   ]
  },
  {
   "cell_type": "code",
   "execution_count": null,
   "metadata": {},
   "outputs": [],
   "source": []
  }
 ],
 "metadata": {
  "kernelspec": {
   "display_name": "PBSHM_Mdof",
   "language": "python",
   "name": "python3"
  },
  "language_info": {
   "codemirror_mode": {
    "name": "ipython",
    "version": 3
   },
   "file_extension": ".py",
   "mimetype": "text/x-python",
   "name": "python",
   "nbconvert_exporter": "python",
   "pygments_lexer": "ipython3",
   "version": "3.10.12"
  },
  "orig_nbformat": 4
 },
 "nbformat": 4,
 "nbformat_minor": 2
}
