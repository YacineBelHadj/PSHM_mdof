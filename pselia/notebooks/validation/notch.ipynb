{
 "cells": [
  {
   "cell_type": "code",
   "execution_count": 1,
   "metadata": {},
   "outputs": [
    {
     "name": "stdout",
     "output_type": "stream",
     "text": [
      "/home/yacine/Documents/PhD/Code/GitProject/PBSHM_mdof\n"
     ]
    }
   ],
   "source": [
    "# Import necessary libraries\n",
    "import sqlite3\n",
    "import numpy as np\n",
    "import matplotlib.pyplot as plt\n",
    "from pselia.config_elia import settings, load_processed_data_path\n",
    "from pselia.utils import load_freq_axis\n",
    "from sys import float_info\n",
    "EPS = float_info.epsilon"
   ]
  },
  {
   "cell_type": "code",
   "execution_count": 115,
   "metadata": {},
   "outputs": [],
   "source": [
    "\n",
    "database_processed_path = load_processed_data_path('SETTINGS1')\n",
    "freq = load_freq_axis(database_processed_path)\n"
   ]
  },
  {
   "cell_type": "code",
   "execution_count": 116,
   "metadata": {},
   "outputs": [],
   "source": [
    "from pselia.training.datamodule import CreateTransformer\n",
    "transformer = CreateTransformer(database_processed_path, freq,freq_min=0,freq_max=40)\n",
    "psd_tf = transformer.transform_psd\n",
    "freq_new = transformer.new_freq"
   ]
  },
  {
   "cell_type": "code",
   "execution_count": 117,
   "metadata": {},
   "outputs": [],
   "source": [
    "class VirtualAnomaly:\n",
    "    def __init__(self,freq_axis,length):\n",
    "        self.freq_axis = freq_axis\n",
    "        self.length = length\n",
    "    \n",
    "    def construct_nodge(self,f_oi,amp):\n",
    "        hann_len = np.sum(np.abs(self.freq_axis-f_oi)<=self.length/2)\n",
    "        hann = 1-np.hanning(hann_len)*amp\n",
    "        window = np.ones(self.freq_axis.shape)\n",
    "        window[np.abs(self.freq_axis-f_oi)<=self.length/2] = hann\n",
    "        return window\n",
    "    \n",
    "    def add_notch(self,psd,window):\n",
    "        if psd.ndim == 1:\n",
    "            psd = psd.reshape(1,-1)\n",
    "        log_psd = np.log(psd)\n",
    "        #  normalize the psd  \n",
    "        # let's compute the min and max when frequency is between 0 and 50 Hz\n",
    "        min_psd = np.min(log_psd)\n",
    "        max_psd = np.max(log_psd)\n",
    "        log_psd_n =  (log_psd  - min_psd) / (2*(max_psd - min_psd))\n",
    "\n",
    "        log_psd_n_aff =log_psd_n+ (1- window)\n",
    "        #clip the psd to be between 0 and 1\n",
    "        # then unnormalize the psd\n",
    "        #log_psd_n_aff = log_psd_n_aff.clip(0+EPS,1-EPS) \n",
    "        psd_unnorm_aff = (log_psd_n_aff) * 2*(max_psd - min_psd) + min_psd \n",
    "\n",
    "        res = np.exp(psd_unnorm_aff)\n",
    "        return res\n",
    "    def affect_psd(self,psd,aff_f, aff_amp):\n",
    "        window = self.construct_nodge(aff_f,aff_amp)\n",
    "        psd_res = self.add_notch(psd,window)\n",
    "        return psd_res"
   ]
  },
  {
   "cell_type": "code",
   "execution_count": 121,
   "metadata": {},
   "outputs": [
    {
     "data": {
      "text/plain": [
       "array([[1.50642136e-03, 7.78226309e-03, 6.47794672e-03, ...,\n",
       "        9.23353128e-04, 5.43052116e-04, 1.37647470e-02],\n",
       "       [4.73247323e-03, 2.38830431e-02, 1.61790805e-02, ...,\n",
       "        8.30542087e-04, 5.00570443e-04, 3.38446144e-03],\n",
       "       [1.42828256e-03, 7.84511695e-03, 5.57165156e-03, ...,\n",
       "        3.59107229e-04, 3.94823835e-04, 7.41538645e-03],\n",
       "       ...,\n",
       "       [8.81083582e-04, 4.90838762e-03, 4.09175641e-03, ...,\n",
       "        4.73184518e-04, 4.14387118e-04, 5.50014566e-03],\n",
       "       [5.65934362e-03, 3.45132216e-02, 2.66871747e-02, ...,\n",
       "        1.04191782e-03, 1.28070376e-03, 3.02810811e-02],\n",
       "       [7.20879545e-05, 2.10782453e-04, 1.45259750e-04, ...,\n",
       "        1.18348686e-05, 1.23968870e-05, 2.38204150e-04]])"
      ]
     },
     "execution_count": 121,
     "metadata": {},
     "output_type": "execute_result"
    }
   ],
   "source": [
    "database_processed_path = load_processed_data_path('SETTINGS1')\n",
    "conn = sqlite3.connect(database_processed_path)\n",
    "c = conn.cursor()\n",
    "c.execute(\"\"\"SELECT PSD FROM processed_data WHERE date_time = '2022-04-14 22:50:00'\n",
    "\"\"\")\n",
    "psds = c.fetchall()\n",
    "psds = np.array([np.frombuffer(psd, dtype=np.float64) for psd, in psds])\n",
    "psds"
   ]
  },
  {
   "cell_type": "code",
   "execution_count": 112,
   "metadata": {},
   "outputs": [],
   "source": [
    "vas = VirtualAnomaly(freq,1)\n"
   ]
  },
  {
   "cell_type": "code",
   "execution_count": 113,
   "metadata": {},
   "outputs": [
    {
     "data": {
      "application/vnd.jupyter.widget-view+json": {
       "model_id": "4040b4a26b80496cbd649399fcb10eb6",
       "version_major": 2,
       "version_minor": 0
      },
      "text/plain": [
       "interactive(children=(FloatSlider(value=4.8, description='Param1:', max=30.0, step=1.0), FloatSlider(value=0.0…"
      ]
     },
     "execution_count": 113,
     "metadata": {},
     "output_type": "execute_result"
    }
   ],
   "source": [
    "import matplotlib.pyplot as plt\n",
    "import numpy as np\n",
    "import ipywidgets as widgets\n",
    "from IPython.display import display\n",
    "\n",
    "# Function to update the plot\n",
    "def update_plot(param1, param2,param3):\n",
    "    psd = psds[param3]\n",
    "    x = freq\n",
    "    y1 = psd\n",
    "    x_nn = freq_new\n",
    "    y2 = vas.affect_psd(psd,param1,param2)\n",
    "    fig,ax = plt.subplots(ncols=2,figsize=(10, 4))\n",
    "    ax[0].semilogy(x,y1.T )\n",
    "    ax[0].semilogy(x, y2.T)\n",
    "    all_y = np.vstack((y1, y2))\n",
    "    ylim_lower = np.min(all_y) * 0.9  # 10% lower than the min\n",
    "    ylim_upper = np.max(all_y) * 1.1  # 10% higher than the max\n",
    "\n",
    "    y1_nn = psd_tf(y1)\n",
    "    y2_nn = psd_tf(y2)\n",
    "    ax[1].plot(y1_nn.T)\n",
    "    ax[1].plot(y2_nn.T) \n",
    "    ax[0].set_ylim(ylim_lower, ylim_upper)\n",
    "    plt.show()\n",
    "\n",
    "# Create widgets for interaction\n",
    "param1_slider = widgets.FloatSlider(value=4.8, min=0, max=30, step=1, description='Param1:')\n",
    "param2_slider = widgets.FloatSlider(value=0, min=-0.5, max=1, step=0.1, description='Param2:')\n",
    "param3_slider = widgets.IntSlider(value=0, min=0, max=12, step=1, description='Param3:')\n",
    "\n",
    "# Display widgets\n",
    "widgets.interactive(update_plot, param1=param1_slider, param2=param2_slider,param3=param3_slider)\n"
   ]
  },
  {
   "cell_type": "code",
   "execution_count": 68,
   "metadata": {},
   "outputs": [
    {
     "name": "stderr",
     "output_type": "stream",
     "text": [
      "Progress: 100%|██████████| 21/21 [00:17<00:00,  1.20it/s, max=1.4] \n"
     ]
    }
   ],
   "source": [
    "from tqdm import tqdm\n",
    "max_ = 0\n",
    "aff_f_grid = np.arange(1,30,0.39)\n",
    "aff_amp_grid = np.arange(-0.5,0.55,0.05)\n",
    "\n",
    "prog = tqdm(total=len(aff_amp_grid), desc='Progress', position=0, leave=True)\n",
    "for amp in aff_amp_grid:\n",
    "    affected = vas.affect_psd(psds, 4.8,amp)\n",
    "    affected_nn = psd_tf(affected)\n",
    "    max_ = max(max_,np.max(affected_nn))\n",
    "    prog.update(1)\n",
    "    prog.set_postfix({'max':max_})\n",
    "        \n",
    "prog.close()\n",
    "\n"
   ]
  },
  {
   "cell_type": "code",
   "execution_count": 51,
   "metadata": {},
   "outputs": [
    {
     "data": {
      "text/plain": [
       "1.6338568853944728"
      ]
     },
     "execution_count": 51,
     "metadata": {},
     "output_type": "execute_result"
    }
   ],
   "source": [
    "max_"
   ]
  },
  {
   "cell_type": "code",
   "execution_count": 104,
   "metadata": {},
   "outputs": [],
   "source": [
    "from pselia.config_elia import load_processed_data_path_vas\n",
    "database_processed_path = load_processed_data_path_vas('SETTINGS1')\n",
    "conn = sqlite3.connect(database_processed_path)\n",
    "c = conn.cursor()\n",
    "c.execute(\"\"\"SELECT PSD,aff_f,aff_amp FROM VAS_NOTCH WHERE date_time = \n",
    "          '2022-04-20 14:25:00'\"\"\")\n",
    "all_data = c.fetchall() \n",
    "psds = np.array([np.frombuffer(psd, dtype=np.float64) for psd, f_aff, amp_aff in all_data])\n",
    "f_aff = np.array([f_aff for psd, f_aff, amp_aff in all_data])\n",
    "amp_aff = np.array([amp_aff for psd, f_aff, amp_aff in all_data])\n",
    "\n",
    "\n"
   ]
  },
  {
   "cell_type": "code",
   "execution_count": 106,
   "metadata": {},
   "outputs": [
    {
     "data": {
      "text/plain": [
       "9.739703105764202e+145"
      ]
     },
     "execution_count": 106,
     "metadata": {},
     "output_type": "execute_result"
    }
   ],
   "source": [
    "np.max(psds)"
   ]
  },
  {
   "cell_type": "code",
   "execution_count": 105,
   "metadata": {},
   "outputs": [
    {
     "data": {
      "text/plain": [
       "Text(0.5, 1.0, 'aff2.0amp-0.5')"
      ]
     },
     "execution_count": 105,
     "metadata": {},
     "output_type": "execute_result"
    },
    {
     "data": {
      "image/png": "[encoded data removed]",
      "text/plain": [
       "<Figure size 640x480 with 1 Axes>"
      ]
     },
     "metadata": {},
     "output_type": "display_data"
    }
   ],
   "source": [
    "plt.plot(psds[0])\n",
    "plt.title('aff'+str(f_aff[0])+'amp'+str(amp_aff[0]))"
   ]
  },
  {
   "cell_type": "code",
   "execution_count": 101,
   "metadata": {},
   "outputs": [
    {
     "data": {
      "text/plain": [
       "12"
      ]
     },
     "execution_count": 101,
     "metadata": {},
     "output_type": "execute_result"
    }
   ],
   "source": [
    "from pselia.config_elia import load_processed_data_path\n",
    "database_processed_path = load_processed_data_path('SETTINGS1')\n",
    "conn = sqlite3.connect(database_processed_path)\n",
    "c = conn.cursor()\n",
    "c.execute(\"\"\"SELECT PSD FROM processed_data WHERE date_time ='2022-04-20 14:25:00'\"\"\")\n",
    "psds = c.fetchall()\n",
    "psds = np.array([np.frombuffer(psd, dtype=np.float64) for psd, in psds])\n",
    "\n",
    "\n",
    "len(psds)"
   ]
  },
  {
   "cell_type": "code",
   "execution_count": 102,
   "metadata": {},
   "outputs": [
    {
     "data": {
      "text/plain": [
       "[<matplotlib.lines.Line2D at 0x7fe0d0618370>]"
      ]
     },
     "execution_count": 102,
     "metadata": {},
     "output_type": "execute_result"
    },
    {
     "data": {
      "image/png": "[encoded data removed]",
      "text/plain": [
       "<Figure size 640x480 with 1 Axes>"
      ]
     },
     "metadata": {},
     "output_type": "display_data"
    }
   ],
   "source": [
    "plt.semilogy(psds[0])"
   ]
  },
  {
   "cell_type": "code",
   "execution_count": 103,
   "metadata": {},
   "outputs": [
    {
     "data": {
      "application/vnd.jupyter.widget-view+json": {
       "model_id": "18ddb61268064940bb00f9ef74a4cd42",
       "version_major": 2,
       "version_minor": 0
      },
      "text/plain": [
       "interactive(children=(FloatSlider(value=4.8, description='Param1:', max=30.0, step=1.0), FloatSlider(value=0.0…"
      ]
     },
     "execution_count": 103,
     "metadata": {},
     "output_type": "execute_result"
    }
   ],
   "source": [
    "import matplotlib.pyplot as plt\n",
    "import numpy as np\n",
    "import ipywidgets as widgets\n",
    "from IPython.display import display\n",
    "\n",
    "# Function to update the plot\n",
    "def update_plot(param1, param2,param3):\n",
    "    psd = psds[param3]\n",
    "    x = freq\n",
    "    y1 = psd\n",
    "    x_nn = freq_new\n",
    "    y2 = vas.affect_psd(psd,param1,param2)\n",
    "    fig,ax = plt.subplots(ncols=2,figsize=(10, 4))\n",
    "    ax[0].semilogy(x,y1.T )\n",
    "    ax[0].semilogy(x, y2.T)\n",
    "    all_y = np.vstack((y1, y2))\n",
    "    ylim_lower = np.min(all_y) * 0.9  # 10% lower than the min\n",
    "    ylim_upper = np.max(all_y) * 1.1  # 10% higher than the max\n",
    "\n",
    "    y1_nn = psd_tf(y1)\n",
    "    y2_nn = psd_tf(y2)\n",
    "    ax[1].plot(y1_nn.T)\n",
    "    ax[1].plot(y2_nn.T) \n",
    "    ax[0].set_ylim(ylim_lower, ylim_upper)\n",
    "    plt.show()\n",
    "\n",
    "# Create widgets for interaction\n",
    "param1_slider = widgets.FloatSlider(value=4.8, min=0, max=30, step=1, description='Param1:')\n",
    "param2_slider = widgets.FloatSlider(value=0, min=-0.5, max=1, step=0.1, description='Param2:')\n",
    "param3_slider = widgets.IntSlider(value=0, min=0, max=12, step=1, description='Param3:')\n",
    "\n",
    "# Display widgets\n",
    "widgets.interactive(update_plot, param1=param1_slider, param2=param2_slider,param3=param3_slider)\n"
   ]
  },
  {
   "cell_type": "code",
   "execution_count": null,
   "metadata": {},
   "outputs": [],
   "source": []
  }
 ],
 "metadata": {
  "kernelspec": {
   "display_name": "PBS_n",
   "language": "python",
   "name": "python3"
  },
  "language_info": {
   "codemirror_mode": {
    "name": "ipython",
    "version": 3
   },
   "file_extension": ".py",
   "mimetype": "text/x-python",
   "name": "python",
   "nbconvert_exporter": "python",
   "pygments_lexer": "ipython3",
   "version": "3.10.12"
  }
 },
 "nbformat": 4,
 "nbformat_minor": 2
}
