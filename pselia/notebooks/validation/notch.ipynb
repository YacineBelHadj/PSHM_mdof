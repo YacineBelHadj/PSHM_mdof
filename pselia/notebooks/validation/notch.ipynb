{
 "cells": [
  {
   "cell_type": "code",
   "execution_count": 5,
   "metadata": {},
   "outputs": [
    {
     "name": "stdout",
     "output_type": "stream",
     "text": [
      "/home/yacine/Documents/PhD/Code/GitProject/PBSHM_mdof\n"
     ]
    }
   ],
   "source": [
    "# Import necessary libraries\n",
    "import sqlite3\n",
    "import numpy as np\n",
    "import matplotlib.pyplot as plt\n",
    "from pselia.config_elia import settings, load_processed_data_path"
   ]
  },
  {
   "cell_type": "code",
   "execution_count": 6,
   "metadata": {},
   "outputs": [],
   "source": [
    "database_processed_path = load_processed_data_path('SETTINGS1')\n",
    "def load_freq_axis(database_processed_path):\n",
    "    conn = sqlite3.connect(database_processed_path)\n",
    "    c = conn.cursor()\n",
    "    c.execute(\"SELECT freq FROM metadata\")\n",
    "    freq = c.fetchone()[0]\n",
    "    freq = np.frombuffer(freq, dtype=np.float64)\n",
    "    return freq"
   ]
  },
  {
   "cell_type": "code",
   "execution_count": 7,
   "metadata": {},
   "outputs": [],
   "source": [
    "def construct_nodge(freq, f_oi, length, amp):\n",
    "    hann_len = np.sum(np.abs(freq - f_oi) <= length/2)\n",
    "    hann = 1 - np.hanning(hann_len) * amp\n",
    "    window = np.ones(freq.shape)\n",
    "    window[np.abs(freq - f_oi) <= length/2] = hann\n",
    "    return window"
   ]
  },
  {
   "cell_type": "code",
   "execution_count": 20,
   "metadata": {},
   "outputs": [],
   "source": [
    "def add_notch(psd,window):\n",
    "    if psd.ndim==1:\n",
    "        psd = psd.reshape(1,-1)\n",
    "    psd_log = np.log(psd)\n",
    "    min_psd = np.min(psd_log,axis=-1,keepdims=True)\n",
    "    max_psd = np.max(psd_log,axis=-1,keepdims=True)\n",
    "    psd_log_n = (psd_log - min_psd) / (max_psd - min_psd)\n",
    "    psd_log_n_aff = psd_log_n + (1-window) \n",
    "    psd_unnorm_aff = psd_log_n_aff * (max_psd - min_psd) + min_psd\n",
    "    res = np.exp(psd_unnorm_aff)\n",
    "    return res\n"
   ]
  },
  {
   "cell_type": "code",
   "execution_count": 21,
   "metadata": {},
   "outputs": [],
   "source": [
    "def affect_psd(psd, freq, amp, f_oi, length):\n",
    "    window = construct_nodge(freq=freq, f_oi=f_oi, length=length, amp=amp)\n",
    "    psd_res = add_notch(psd, window)\n",
    "    return psd_res"
   ]
  },
  {
   "cell_type": "code",
   "execution_count": 48,
   "metadata": {},
   "outputs": [],
   "source": [
    "conn = sqlite3.connect(database_processed_path)\n",
    "c = conn.cursor()\n",
    "c.execute(\"SELECT PSD FROM processed_data WHERE face='2' AND direction='Z' LIMIT 10\")\n",
    "psds = c.fetchall()\n",
    "psds = np.array([np.frombuffer(psd, dtype=np.float64) for psd, in psds])\n",
    "freq = load_freq_axis(database_processed_path)\n"
   ]
  },
  {
   "cell_type": "code",
   "execution_count": 62,
   "metadata": {},
   "outputs": [
    {
     "ename": "TypeError",
     "evalue": "'tuple' object is not callable",
     "output_type": "error",
     "traceback": [
      "\u001b[0;31m---------------------------------------------------------------------------\u001b[0m",
      "\u001b[0;31mTypeError\u001b[0m                                 Traceback (most recent call last)",
      "\u001b[1;32m/home/yacine/Documents/PhD/Code/GitProject/PBSHM_mdof/pselia/notebooks/validation/notch.ipynb Cell 9\u001b[0m line \u001b[0;36m2\n\u001b[1;32m      <a href='vscode-notebook-cell:/home/yacine/Documents/PhD/Code/GitProject/PBSHM_mdof/pselia/notebooks/validation/notch.ipynb#X14sZmlsZQ%3D%3D?line=0'>1</a>\u001b[0m freq_mask \u001b[39m=\u001b[39m freq \u001b[39m<\u001b[39m \u001b[39m50\u001b[39m\n\u001b[0;32m----> <a href='vscode-notebook-cell:/home/yacine/Documents/PhD/Code/GitProject/PBSHM_mdof/pselia/notebooks/validation/notch.ipynb#X14sZmlsZQ%3D%3D?line=1'>2</a>\u001b[0m psds[:,freq_mask]\u001b[39m.\u001b[39;49mshape()\n",
      "\u001b[0;31mTypeError\u001b[0m: 'tuple' object is not callable"
     ]
    }
   ],
   "source": [
    "freq_mask = freq < 50\n",
    "psds[:,freq_mask].shape\n"
   ]
  },
  {
   "cell_type": "code",
   "execution_count": 63,
   "metadata": {},
   "outputs": [
    {
     "data": {
      "text/html": [
       "\n",
       "        <iframe\n",
       "            width=\"100%\"\n",
       "            height=\"650\"\n",
       "            src=\"http://127.0.0.1:8050/\"\n",
       "            frameborder=\"0\"\n",
       "            allowfullscreen\n",
       "            \n",
       "        ></iframe>\n",
       "        "
      ],
      "text/plain": [
       "<IPython.lib.display.IFrame at 0x7fd23e7df5b0>"
      ]
     },
     "metadata": {},
     "output_type": "display_data"
    }
   ],
   "source": [
    "# Define the layout of the Dash app\n",
    "import dash\n",
    "import dash_core_components as dcc\n",
    "from dash import html\n",
    "from dash.dependencies import Input, Output\n",
    "import plotly.graph_objs as go\n",
    "\n",
    "# Define the app\n",
    "app = dash.Dash(__name__)\n",
    "\n",
    "# Define the layout\n",
    "app.layout = html.Div([\n",
    "    html.H1('Interactive PSD Plot'),\n",
    "\n",
    "    html.Label('Amplitude:'),\n",
    "    dcc.Slider(\n",
    "        id='amp-slider',\n",
    "        min=-1,\n",
    "        max=1.0,\n",
    "        step=0.01,\n",
    "        value=0.1\n",
    "    ),\n",
    "\n",
    "    html.Label('f_oi:'),\n",
    "    dcc.Slider(\n",
    "        id='f-oi-slider',\n",
    "        min=1,\n",
    "        max=50,\n",
    "        step=1,\n",
    "        value=7\n",
    "    ),\n",
    "    html.Label('Length:'),\n",
    "    dcc.Slider(\n",
    "        id='length-slider',\n",
    "        min=1,\n",
    "        max=50,\n",
    "        step=1,\n",
    "        value=1\n",
    "    ),\n",
    "    html.Label('PSD_n:'),\n",
    "    dcc.Slider(\n",
    "        id='psd-n-slider',\n",
    "        min=0,\n",
    "        max=len(psds)-1,\n",
    "        step=1,\n",
    "        value=1\n",
    "    ),\n",
    "\n",
    "    dcc.Graph(id='psd-plot')\n",
    "])\n",
    "\n",
    "# Define the callback function\n",
    "@app.callback(\n",
    "    Output('psd-plot', 'figure'),\n",
    "    Input('amp-slider', 'value'),\n",
    "    Input('f-oi-slider', 'value'),\n",
    "    Input('length-slider', 'value'),\n",
    "    Input('psd-n-slider', 'value')\n",
    ")\n",
    "def update_psd_plot(amp, f_oi, length, psd_n):\n",
    "    # Load the frequency axis\n",
    "    freq = load_freq_axis(database_processed_path)\n",
    "\n",
    "    # Create a notch filter with the specified parameters\n",
    "    notch_filter = construct_nodge(freq, f_oi, length=length, amp=amp)\n",
    "\n",
    "    # Apply the notch filter to the PSD\n",
    "    psds_affected = add_notch(psds, notch_filter)\n",
    "\n",
    "    # Create the Plotly figure\n",
    "    freq_mask = freq < 50\n",
    "    trace1 = go.Scatter(x=freq[freq_mask], y=psds[psd_n,freq_mask].T, mode='lines', name='original')\n",
    "    trace2 = go.Scatter(x=freq[freq_mask], y=psds_affected[psd_n, freq_mask].T, mode='lines', name='affected')\n",
    "    \n",
    "    layout = go.Layout(\n",
    "        title='Interactive PSD Plot',\n",
    "        xaxis=dict(title='Frequency [Hz]'),\n",
    "        yaxis=dict(title='PSD [g**2/Hz]', type='log'),\n",
    "        showlegend=True\n",
    "    )\n",
    "\n",
    "    fig = go.Figure(data=[trace1,trace2], layout=layout)\n",
    "    return fig\n",
    "\n",
    "# Run the app\n",
    "app.run_server(mode='inline')"
   ]
  },
  {
   "cell_type": "code",
   "execution_count": null,
   "metadata": {},
   "outputs": [],
   "source": []
  }
 ],
 "metadata": {
  "kernelspec": {
   "display_name": "PBS_n",
   "language": "python",
   "name": "python3"
  },
  "language_info": {
   "codemirror_mode": {
    "name": "ipython",
    "version": 3
   },
   "file_extension": ".py",
   "mimetype": "text/x-python",
   "name": "python",
   "nbconvert_exporter": "python",
   "pygments_lexer": "ipython3",
   "version": "3.10.12"
  }
 },
 "nbformat": 4,
 "nbformat_minor": 2
}
